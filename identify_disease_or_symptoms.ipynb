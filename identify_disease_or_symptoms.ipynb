{
 "cells": [
  {
   "cell_type": "code",
   "execution_count": 1,
   "metadata": {},
   "outputs": [],
   "source": [
    "import tensorflow as tf\n",
    "from tensorflow.keras.models import Sequential\n",
    "from tensorflow.keras.layers import Embedding, LSTM, Dense\n",
    "import numpy as np"
   ]
  },
  {
   "cell_type": "code",
   "execution_count": 2,
   "metadata": {},
   "outputs": [
    {
     "name": "stdout",
     "output_type": "stream",
     "text": [
      "rash joint pain muscle pain headache\n",
      "chikungunya\n"
     ]
    }
   ],
   "source": [
    "from disease_symptoms import dataset\n",
    "data = dataset"
   ]
  },
  {
   "cell_type": "code",
   "execution_count": 3,
   "metadata": {},
   "outputs": [],
   "source": [
    "diseases_list = []\n",
    "symptoms_list = []\n",
    "for disease, symptoms in data.items():\n",
    "    diseases_list.append(disease)\n",
    "    for sym in symptoms:\n",
    "        symptoms_list.append(sym)"
   ]
  },
  {
   "cell_type": "code",
   "execution_count": 4,
   "metadata": {},
   "outputs": [],
   "source": [
    "data = {'text' : diseases_list + symptoms_list, 'label' : ['disease'] * len(diseases_list) + ['symptoms']*len(symptoms_list)}"
   ]
  },
  {
   "cell_type": "code",
   "execution_count": 5,
   "metadata": {},
   "outputs": [],
   "source": [
    "X_train = data['text']\n",
    "Y_train = data['label']"
   ]
  },
  {
   "cell_type": "code",
   "execution_count": 6,
   "metadata": {},
   "outputs": [],
   "source": [
    "label_to_id = {'disease' : 0, 'symptoms' : 1}\n",
    "Y_train = [label_to_id[label] for label in Y_train]"
   ]
  },
  {
   "cell_type": "code",
   "execution_count": 7,
   "metadata": {},
   "outputs": [],
   "source": [
    "tokenizer = tf.keras.preprocessing.text.Tokenizer()\n",
    "tokenizer.fit_on_texts(X_train)\n",
    "X_train = tokenizer.texts_to_sequences(X_train)\n",
    "X_train = tf.keras.preprocessing.sequence.pad_sequences(X_train)"
   ]
  },
  {
   "cell_type": "code",
   "execution_count": 8,
   "metadata": {},
   "outputs": [
    {
     "data": {
      "text/plain": [
       "['entity_identification_tokenizer.joblib']"
      ]
     },
     "execution_count": 8,
     "metadata": {},
     "output_type": "execute_result"
    }
   ],
   "source": [
    "import joblib\n",
    "joblib.dump(tokenizer,'entity_identification_tokenizer.joblib')"
   ]
  },
  {
   "cell_type": "code",
   "execution_count": 9,
   "metadata": {},
   "outputs": [],
   "source": [
    "num_classes = len(set(Y_train))\n",
    "Y_train_one_hot = tf.keras.utils.to_categorical(Y_train, num_classes=2)"
   ]
  },
  {
   "cell_type": "code",
   "execution_count": 10,
   "metadata": {},
   "outputs": [],
   "source": [
    "model = Sequential([\n",
    "    Embedding(input_dim=len(tokenizer.word_index) + 1, output_dim=50, input_length=X_train.shape[1]),\n",
    "    LSTM(100),\n",
    "    Dense(2, activation='softmax')\n",
    "])"
   ]
  },
  {
   "cell_type": "code",
   "execution_count": 11,
   "metadata": {},
   "outputs": [],
   "source": [
    "model.compile(optimizer='adam', loss='binary_crossentropy', metrics=['accuracy'])"
   ]
  },
  {
   "cell_type": "code",
   "execution_count": 12,
   "metadata": {},
   "outputs": [
    {
     "name": "stdout",
     "output_type": "stream",
     "text": [
      "Epoch 1/100\n",
      "8/8 [==============================] - 2s 6ms/step - loss: 0.6826 - accuracy: 0.7336\n",
      "Epoch 2/100\n",
      "8/8 [==============================] - 0s 7ms/step - loss: 0.6423 - accuracy: 0.8035\n",
      "Epoch 3/100\n",
      "8/8 [==============================] - 0s 5ms/step - loss: 0.5731 - accuracy: 0.8035\n",
      "Epoch 4/100\n",
      "8/8 [==============================] - 0s 5ms/step - loss: 0.4841 - accuracy: 0.8035\n",
      "Epoch 5/100\n",
      "8/8 [==============================] - 0s 5ms/step - loss: 0.4771 - accuracy: 0.8035\n",
      "Epoch 6/100\n",
      "8/8 [==============================] - 0s 6ms/step - loss: 0.4473 - accuracy: 0.8035\n",
      "Epoch 7/100\n",
      "8/8 [==============================] - 0s 5ms/step - loss: 0.4314 - accuracy: 0.8035\n",
      "Epoch 8/100\n",
      "8/8 [==============================] - 0s 4ms/step - loss: 0.4025 - accuracy: 0.8035\n",
      "Epoch 9/100\n",
      "8/8 [==============================] - 0s 5ms/step - loss: 0.3722 - accuracy: 0.8035\n",
      "Epoch 10/100\n",
      "8/8 [==============================] - 0s 5ms/step - loss: 0.3357 - accuracy: 0.8079\n",
      "Epoch 11/100\n",
      "8/8 [==============================] - 0s 5ms/step - loss: 0.2972 - accuracy: 0.8079\n",
      "Epoch 12/100\n",
      "8/8 [==============================] - 0s 6ms/step - loss: 0.2571 - accuracy: 0.8515\n",
      "Epoch 13/100\n",
      "8/8 [==============================] - 0s 5ms/step - loss: 0.2161 - accuracy: 0.8908\n",
      "Epoch 14/100\n",
      "8/8 [==============================] - 0s 5ms/step - loss: 0.1810 - accuracy: 0.8996\n",
      "Epoch 15/100\n",
      "8/8 [==============================] - 0s 3ms/step - loss: 0.1495 - accuracy: 0.9258\n",
      "Epoch 16/100\n",
      "8/8 [==============================] - 0s 5ms/step - loss: 0.1231 - accuracy: 0.9869\n",
      "Epoch 17/100\n",
      "8/8 [==============================] - 0s 6ms/step - loss: 0.0962 - accuracy: 0.9956\n",
      "Epoch 18/100\n",
      "8/8 [==============================] - 0s 4ms/step - loss: 0.0683 - accuracy: 1.0000\n",
      "Epoch 19/100\n",
      "8/8 [==============================] - 0s 5ms/step - loss: 0.0384 - accuracy: 0.9956\n",
      "Epoch 20/100\n",
      "8/8 [==============================] - 0s 4ms/step - loss: 0.0201 - accuracy: 1.0000\n",
      "Epoch 21/100\n",
      "8/8 [==============================] - 0s 5ms/step - loss: 0.0121 - accuracy: 1.0000\n",
      "Epoch 22/100\n",
      "8/8 [==============================] - 0s 3ms/step - loss: 0.0080 - accuracy: 1.0000\n",
      "Epoch 23/100\n",
      "8/8 [==============================] - 0s 6ms/step - loss: 0.0056 - accuracy: 1.0000\n",
      "Epoch 24/100\n",
      "8/8 [==============================] - 0s 5ms/step - loss: 0.0042 - accuracy: 1.0000\n",
      "Epoch 25/100\n",
      "8/8 [==============================] - 0s 4ms/step - loss: 0.0035 - accuracy: 1.0000\n",
      "Epoch 26/100\n",
      "8/8 [==============================] - 0s 4ms/step - loss: 0.0030 - accuracy: 1.0000\n",
      "Epoch 27/100\n",
      "8/8 [==============================] - 0s 3ms/step - loss: 0.0026 - accuracy: 1.0000\n",
      "Epoch 28/100\n",
      "8/8 [==============================] - 0s 6ms/step - loss: 0.0023 - accuracy: 1.0000\n",
      "Epoch 29/100\n",
      "8/8 [==============================] - 0s 5ms/step - loss: 0.0020 - accuracy: 1.0000\n",
      "Epoch 30/100\n",
      "8/8 [==============================] - 0s 5ms/step - loss: 0.0018 - accuracy: 1.0000\n",
      "Epoch 31/100\n",
      "8/8 [==============================] - 0s 4ms/step - loss: 0.0016 - accuracy: 1.0000\n",
      "Epoch 32/100\n",
      "8/8 [==============================] - 0s 6ms/step - loss: 0.0015 - accuracy: 1.0000\n",
      "Epoch 33/100\n",
      "8/8 [==============================] - 0s 2ms/step - loss: 0.0013 - accuracy: 1.0000\n",
      "Epoch 34/100\n",
      "8/8 [==============================] - 0s 3ms/step - loss: 0.0012 - accuracy: 1.0000\n",
      "Epoch 35/100\n",
      "8/8 [==============================] - 0s 4ms/step - loss: 0.0011 - accuracy: 1.0000\n",
      "Epoch 36/100\n",
      "8/8 [==============================] - 0s 5ms/step - loss: 0.0010 - accuracy: 1.0000\n",
      "Epoch 37/100\n",
      "8/8 [==============================] - 0s 5ms/step - loss: 9.8288e-04 - accuracy: 1.0000\n",
      "Epoch 38/100\n",
      "8/8 [==============================] - 0s 12ms/step - loss: 8.9909e-04 - accuracy: 1.0000\n",
      "Epoch 39/100\n",
      "8/8 [==============================] - 0s 6ms/step - loss: 8.3964e-04 - accuracy: 1.0000\n",
      "Epoch 40/100\n",
      "8/8 [==============================] - 0s 5ms/step - loss: 8.0439e-04 - accuracy: 1.0000\n",
      "Epoch 41/100\n",
      "8/8 [==============================] - 0s 3ms/step - loss: 7.4864e-04 - accuracy: 1.0000\n",
      "Epoch 42/100\n",
      "8/8 [==============================] - 0s 6ms/step - loss: 7.0372e-04 - accuracy: 1.0000\n",
      "Epoch 43/100\n",
      "8/8 [==============================] - 0s 2ms/step - loss: 6.9271e-04 - accuracy: 1.0000\n",
      "Epoch 44/100\n",
      "8/8 [==============================] - 0s 3ms/step - loss: 6.8918e-04 - accuracy: 1.0000\n",
      "Epoch 45/100\n",
      "8/8 [==============================] - 0s 3ms/step - loss: 6.0016e-04 - accuracy: 1.0000\n",
      "Epoch 46/100\n",
      "8/8 [==============================] - 0s 4ms/step - loss: 5.8989e-04 - accuracy: 1.0000\n",
      "Epoch 47/100\n",
      "8/8 [==============================] - 0s 4ms/step - loss: 5.5071e-04 - accuracy: 1.0000\n",
      "Epoch 48/100\n",
      "8/8 [==============================] - 0s 5ms/step - loss: 5.3810e-04 - accuracy: 1.0000\n",
      "Epoch 49/100\n",
      "8/8 [==============================] - 0s 5ms/step - loss: 5.0866e-04 - accuracy: 1.0000\n",
      "Epoch 50/100\n",
      "8/8 [==============================] - 0s 5ms/step - loss: 4.8423e-04 - accuracy: 1.0000\n",
      "Epoch 51/100\n",
      "8/8 [==============================] - 0s 5ms/step - loss: 4.6851e-04 - accuracy: 1.0000\n",
      "Epoch 52/100\n",
      "8/8 [==============================] - 0s 4ms/step - loss: 4.5385e-04 - accuracy: 1.0000\n",
      "Epoch 53/100\n",
      "8/8 [==============================] - 0s 5ms/step - loss: 4.3689e-04 - accuracy: 1.0000\n",
      "Epoch 54/100\n",
      "8/8 [==============================] - 0s 3ms/step - loss: 4.2383e-04 - accuracy: 1.0000\n",
      "Epoch 55/100\n",
      "8/8 [==============================] - 0s 5ms/step - loss: 4.0899e-04 - accuracy: 1.0000\n",
      "Epoch 56/100\n",
      "8/8 [==============================] - 0s 3ms/step - loss: 3.9168e-04 - accuracy: 1.0000\n",
      "Epoch 57/100\n",
      "8/8 [==============================] - 0s 4ms/step - loss: 3.7850e-04 - accuracy: 1.0000\n",
      "Epoch 58/100\n",
      "8/8 [==============================] - 0s 4ms/step - loss: 3.9525e-04 - accuracy: 1.0000\n",
      "Epoch 59/100\n",
      "8/8 [==============================] - 0s 3ms/step - loss: 3.8388e-04 - accuracy: 1.0000\n",
      "Epoch 60/100\n",
      "8/8 [==============================] - 0s 6ms/step - loss: 3.4460e-04 - accuracy: 1.0000\n",
      "Epoch 61/100\n",
      "8/8 [==============================] - 0s 4ms/step - loss: 3.3784e-04 - accuracy: 1.0000\n",
      "Epoch 62/100\n",
      "8/8 [==============================] - 0s 6ms/step - loss: 3.2580e-04 - accuracy: 1.0000\n",
      "Epoch 63/100\n",
      "8/8 [==============================] - 0s 2ms/step - loss: 3.1064e-04 - accuracy: 1.0000\n",
      "Epoch 64/100\n",
      "8/8 [==============================] - 0s 4ms/step - loss: 3.0112e-04 - accuracy: 1.0000\n",
      "Epoch 65/100\n",
      "8/8 [==============================] - 0s 6ms/step - loss: 2.9897e-04 - accuracy: 1.0000\n",
      "Epoch 66/100\n",
      "8/8 [==============================] - 0s 6ms/step - loss: 2.8781e-04 - accuracy: 1.0000\n",
      "Epoch 67/100\n",
      "8/8 [==============================] - 0s 5ms/step - loss: 2.7884e-04 - accuracy: 1.0000\n",
      "Epoch 68/100\n",
      "8/8 [==============================] - 0s 6ms/step - loss: 2.7110e-04 - accuracy: 1.0000\n",
      "Epoch 69/100\n",
      "8/8 [==============================] - 0s 7ms/step - loss: 2.6340e-04 - accuracy: 1.0000\n",
      "Epoch 70/100\n",
      "8/8 [==============================] - 0s 4ms/step - loss: 2.5743e-04 - accuracy: 1.0000\n",
      "Epoch 71/100\n",
      "8/8 [==============================] - 0s 5ms/step - loss: 2.5221e-04 - accuracy: 1.0000\n",
      "Epoch 72/100\n",
      "8/8 [==============================] - 0s 3ms/step - loss: 2.4821e-04 - accuracy: 1.0000\n",
      "Epoch 73/100\n",
      "8/8 [==============================] - 0s 6ms/step - loss: 2.4215e-04 - accuracy: 1.0000\n",
      "Epoch 74/100\n",
      "8/8 [==============================] - 0s 5ms/step - loss: 2.3589e-04 - accuracy: 1.0000\n",
      "Epoch 75/100\n",
      "8/8 [==============================] - 0s 3ms/step - loss: 2.3083e-04 - accuracy: 1.0000\n",
      "Epoch 76/100\n",
      "8/8 [==============================] - 0s 4ms/step - loss: 2.2606e-04 - accuracy: 1.0000\n",
      "Epoch 77/100\n",
      "8/8 [==============================] - 0s 2ms/step - loss: 2.2111e-04 - accuracy: 1.0000\n",
      "Epoch 78/100\n",
      "8/8 [==============================] - 0s 4ms/step - loss: 2.1553e-04 - accuracy: 1.0000\n",
      "Epoch 79/100\n",
      "8/8 [==============================] - 0s 5ms/step - loss: 2.1079e-04 - accuracy: 1.0000\n",
      "Epoch 80/100\n",
      "8/8 [==============================] - 0s 4ms/step - loss: 2.0682e-04 - accuracy: 1.0000\n",
      "Epoch 81/100\n",
      "8/8 [==============================] - 0s 5ms/step - loss: 2.0350e-04 - accuracy: 1.0000\n",
      "Epoch 82/100\n",
      "8/8 [==============================] - 0s 5ms/step - loss: 1.9834e-04 - accuracy: 1.0000\n",
      "Epoch 83/100\n",
      "8/8 [==============================] - 0s 4ms/step - loss: 1.9471e-04 - accuracy: 1.0000\n",
      "Epoch 84/100\n",
      "8/8 [==============================] - 0s 3ms/step - loss: 1.9152e-04 - accuracy: 1.0000\n",
      "Epoch 85/100\n",
      "8/8 [==============================] - 0s 2ms/step - loss: 1.8652e-04 - accuracy: 1.0000\n",
      "Epoch 86/100\n",
      "8/8 [==============================] - 0s 3ms/step - loss: 1.8279e-04 - accuracy: 1.0000\n",
      "Epoch 87/100\n",
      "8/8 [==============================] - 0s 4ms/step - loss: 1.7950e-04 - accuracy: 1.0000\n",
      "Epoch 88/100\n",
      "8/8 [==============================] - 0s 5ms/step - loss: 1.7623e-04 - accuracy: 1.0000\n",
      "Epoch 89/100\n",
      "8/8 [==============================] - 0s 3ms/step - loss: 1.7209e-04 - accuracy: 1.0000\n",
      "Epoch 90/100\n",
      "8/8 [==============================] - 0s 5ms/step - loss: 1.6976e-04 - accuracy: 1.0000\n",
      "Epoch 91/100\n",
      "8/8 [==============================] - 0s 4ms/step - loss: 1.6650e-04 - accuracy: 1.0000\n",
      "Epoch 92/100\n",
      "8/8 [==============================] - 0s 6ms/step - loss: 1.6308e-04 - accuracy: 1.0000\n",
      "Epoch 93/100\n",
      "8/8 [==============================] - 0s 4ms/step - loss: 1.5990e-04 - accuracy: 1.0000\n",
      "Epoch 94/100\n",
      "8/8 [==============================] - 0s 6ms/step - loss: 1.5726e-04 - accuracy: 1.0000\n",
      "Epoch 95/100\n",
      "8/8 [==============================] - 0s 6ms/step - loss: 1.5406e-04 - accuracy: 1.0000\n",
      "Epoch 96/100\n",
      "8/8 [==============================] - 0s 5ms/step - loss: 1.5181e-04 - accuracy: 1.0000\n",
      "Epoch 97/100\n",
      "8/8 [==============================] - 0s 5ms/step - loss: 1.4928e-04 - accuracy: 1.0000\n",
      "Epoch 98/100\n",
      "8/8 [==============================] - 0s 5ms/step - loss: 1.4729e-04 - accuracy: 1.0000\n",
      "Epoch 99/100\n",
      "8/8 [==============================] - 0s 5ms/step - loss: 1.4358e-04 - accuracy: 1.0000\n",
      "Epoch 100/100\n",
      "8/8 [==============================] - 0s 6ms/step - loss: 1.4109e-04 - accuracy: 1.0000\n"
     ]
    },
    {
     "data": {
      "text/plain": [
       "<keras.callbacks.History at 0x1c7d13c5870>"
      ]
     },
     "execution_count": 12,
     "metadata": {},
     "output_type": "execute_result"
    }
   ],
   "source": [
    "model.fit(np.array(X_train), np.array(Y_train_one_hot), epochs=100)\n",
    "\n"
   ]
  },
  {
   "cell_type": "code",
   "execution_count": 13,
   "metadata": {},
   "outputs": [
    {
     "name": "stderr",
     "output_type": "stream",
     "text": [
      "WARNING:absl:Found untraced functions such as _update_step_xla, lstm_cell_layer_call_fn, lstm_cell_layer_call_and_return_conditional_losses while saving (showing 3 of 3). These functions will not be directly callable after loading.\n"
     ]
    },
    {
     "name": "stdout",
     "output_type": "stream",
     "text": [
      "INFO:tensorflow:Assets written to: entity_detection_model\\assets\n"
     ]
    },
    {
     "name": "stderr",
     "output_type": "stream",
     "text": [
      "INFO:tensorflow:Assets written to: entity_detection_model\\assets\n"
     ]
    }
   ],
   "source": [
    "model.save('entity_detection_model')"
   ]
  },
  {
   "cell_type": "markdown",
   "metadata": {},
   "source": [
    "### Test Model"
   ]
  },
  {
   "cell_type": "code",
   "execution_count": 14,
   "metadata": {},
   "outputs": [],
   "source": [
    "import joblib\n",
    "loaded_model= tf.keras.models.load_model('entity_detection_model')\n",
    "tokenizer = joblib.load('entity_identification_tokenizer.joblib')\n",
    "user_input = \"Tell me about dengue\"\n",
    "\n",
    "user_input_sequence = tokenizer.texts_to_sequences([user_input])\n",
    "user_input_padded = tf.keras.preprocessing.sequence.pad_sequences(user_input_sequence, maxlen=4)"
   ]
  },
  {
   "cell_type": "code",
   "execution_count": 15,
   "metadata": {},
   "outputs": [],
   "source": [
    "prediction = loaded_model(user_input_padded)"
   ]
  },
  {
   "cell_type": "code",
   "execution_count": 16,
   "metadata": {},
   "outputs": [
    {
     "name": "stdout",
     "output_type": "stream",
     "text": [
      "The input is related to a disease.\n"
     ]
    }
   ],
   "source": [
    "if prediction[0][0] > prediction[0][1]:\n",
    "    print(\"The input is related to a disease.\")\n",
    "else:\n",
    "    print(\"The input is related to symptoms.\")"
   ]
  },
  {
   "cell_type": "code",
   "execution_count": 17,
   "metadata": {},
   "outputs": [
    {
     "name": "stdout",
     "output_type": "stream",
     "text": [
      "The input is related to symptoms.\n"
     ]
    }
   ],
   "source": [
    "user_input = \"I am feeling dizziness and vomiting\"\n",
    "user_input_sequence = tokenizer.texts_to_sequences([user_input])\n",
    "user_input_padded = tf.keras.preprocessing.sequence.pad_sequences(user_input_sequence, maxlen=4)\n",
    "prediction = loaded_model(user_input_padded)\n",
    "if prediction[0][0] > prediction[0][1]:\n",
    "    print(\"The input is related to a disease.\")\n",
    "else:\n",
    "    print(\"The input is related to symptoms.\")"
   ]
  },
  {
   "cell_type": "code",
   "execution_count": null,
   "metadata": {},
   "outputs": [],
   "source": []
  }
 ],
 "metadata": {
  "kernelspec": {
   "display_name": "Python 3",
   "language": "python",
   "name": "python3"
  },
  "language_info": {
   "codemirror_mode": {
    "name": "ipython",
    "version": 3
   },
   "file_extension": ".py",
   "mimetype": "text/x-python",
   "name": "python",
   "nbconvert_exporter": "python",
   "pygments_lexer": "ipython3",
   "version": "3.10.0"
  }
 },
 "nbformat": 4,
 "nbformat_minor": 2
}
