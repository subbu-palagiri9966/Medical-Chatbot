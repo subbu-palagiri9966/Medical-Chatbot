{
 "cells": [
  {
   "cell_type": "code",
   "execution_count": 1,
   "metadata": {},
   "outputs": [],
   "source": [
    "import tensorflow as tf\n",
    "from tensorflow.keras.models import Model\n",
    "from tensorflow.keras.layers import Embedding, LSTM, Dense"
   ]
  },
  {
   "cell_type": "code",
   "execution_count": 2,
   "metadata": {},
   "outputs": [
    {
     "name": "stdout",
     "output_type": "stream",
     "text": [
      "rash joint pain muscle pain headache\n",
      "chikungunya\n"
     ]
    }
   ],
   "source": [
    "from disease_symptoms import dataset"
   ]
  },
  {
   "cell_type": "code",
   "execution_count": 3,
   "metadata": {},
   "outputs": [],
   "source": [
    "data = dataset"
   ]
  },
  {
   "cell_type": "code",
   "execution_count": 4,
   "metadata": {},
   "outputs": [],
   "source": [
    "X_train = []\n",
    "Y_train = []"
   ]
  },
  {
   "cell_type": "code",
   "execution_count": 5,
   "metadata": {},
   "outputs": [],
   "source": [
    "for disease, symtoms in data.items():\n",
    "    for symtom in symtoms:\n",
    "        X_train.append(symtom)\n",
    "        Y_train.append(disease)"
   ]
  },
  {
   "cell_type": "code",
   "execution_count": 6,
   "metadata": {},
   "outputs": [],
   "source": [
    "label_to_id = {label : idx for idx, label in enumerate(set(Y_train))}\n",
    "Y_train = [label_to_id[label] for label in Y_train]"
   ]
  },
  {
   "cell_type": "code",
   "execution_count": 7,
   "metadata": {},
   "outputs": [],
   "source": [
    "tokenizer = tf.keras.preprocessing.text.Tokenizer()\n",
    "tokenizer.fit_on_texts(X_train)\n",
    "X_train = tokenizer.texts_to_sequences(X_train)\n",
    "X_train = tf.keras.preprocessing.sequence.pad_sequences(X_train)"
   ]
  },
  {
   "cell_type": "code",
   "execution_count": 8,
   "metadata": {},
   "outputs": [
    {
     "data": {
      "text/plain": [
       "['disease_finding_tokenizer.joblib']"
      ]
     },
     "execution_count": 8,
     "metadata": {},
     "output_type": "execute_result"
    }
   ],
   "source": [
    "import joblib\n",
    "joblib.dump(tokenizer, 'disease_finding_tokenizer.joblib')"
   ]
  },
  {
   "cell_type": "code",
   "execution_count": 9,
   "metadata": {},
   "outputs": [],
   "source": [
    "num_classes = len(set(Y_train))"
   ]
  },
  {
   "cell_type": "code",
   "execution_count": 10,
   "metadata": {},
   "outputs": [
    {
     "data": {
      "text/plain": [
       "45"
      ]
     },
     "execution_count": 10,
     "metadata": {},
     "output_type": "execute_result"
    }
   ],
   "source": [
    "num_classes"
   ]
  },
  {
   "cell_type": "code",
   "execution_count": 11,
   "metadata": {},
   "outputs": [],
   "source": [
    "# Y_train_one_hot = tf.keras.utils.to_categorical(Y_train, num_classes=num_classes)"
   ]
  },
  {
   "cell_type": "code",
   "execution_count": 11,
   "metadata": {},
   "outputs": [],
   "source": [
    "from tensorflow.keras.models import Sequential"
   ]
  },
  {
   "cell_type": "code",
   "execution_count": 12,
   "metadata": {},
   "outputs": [],
   "source": [
    "model = Sequential([\n",
    "    Embedding(input_dim=len(tokenizer.word_index) + 1, output_dim=50, input_length=X_train.shape[1]),\n",
    "    LSTM(100, return_sequences=True),\n",
    "    LSTM(50),\n",
    "    Dense(num_classes, activation='softmax')\n",
    "])"
   ]
  },
  {
   "cell_type": "code",
   "execution_count": 13,
   "metadata": {},
   "outputs": [],
   "source": [
    "model.compile(optimizer='adam', loss='sparse_categorical_crossentropy', metrics=['accuracy'])"
   ]
  },
  {
   "cell_type": "code",
   "execution_count": 14,
   "metadata": {},
   "outputs": [],
   "source": [
    "import numpy as np"
   ]
  },
  {
   "cell_type": "code",
   "execution_count": 15,
   "metadata": {},
   "outputs": [
    {
     "name": "stdout",
     "output_type": "stream",
     "text": [
      "Epoch 1/100\n",
      "6/6 [==============================] - 3s 7ms/step - loss: 3.8083 - accuracy: 0.0163\n",
      "Epoch 2/100\n",
      "6/6 [==============================] - 0s 7ms/step - loss: 3.8057 - accuracy: 0.0435\n",
      "Epoch 3/100\n",
      "6/6 [==============================] - 0s 4ms/step - loss: 3.8048 - accuracy: 0.0435\n",
      "Epoch 4/100\n",
      "6/6 [==============================] - 0s 7ms/step - loss: 3.8037 - accuracy: 0.0435\n",
      "Epoch 5/100\n",
      "6/6 [==============================] - 0s 7ms/step - loss: 3.8022 - accuracy: 0.0435\n",
      "Epoch 6/100\n",
      "6/6 [==============================] - 0s 7ms/step - loss: 3.8007 - accuracy: 0.0435\n",
      "Epoch 7/100\n",
      "6/6 [==============================] - 0s 7ms/step - loss: 3.7985 - accuracy: 0.0435\n",
      "Epoch 8/100\n",
      "6/6 [==============================] - 0s 11ms/step - loss: 3.7952 - accuracy: 0.0435\n",
      "Epoch 9/100\n",
      "6/6 [==============================] - 0s 7ms/step - loss: 3.7911 - accuracy: 0.0435\n",
      "Epoch 10/100\n",
      "6/6 [==============================] - 0s 6ms/step - loss: 3.7846 - accuracy: 0.0489\n",
      "Epoch 11/100\n",
      "6/6 [==============================] - 0s 5ms/step - loss: 3.7753 - accuracy: 0.0489\n",
      "Epoch 12/100\n",
      "6/6 [==============================] - 0s 8ms/step - loss: 3.7611 - accuracy: 0.0489\n",
      "Epoch 13/100\n",
      "6/6 [==============================] - 0s 7ms/step - loss: 3.7447 - accuracy: 0.0543\n",
      "Epoch 14/100\n",
      "6/6 [==============================] - 0s 5ms/step - loss: 3.7208 - accuracy: 0.0652\n",
      "Epoch 15/100\n",
      "6/6 [==============================] - 0s 8ms/step - loss: 3.6936 - accuracy: 0.0652\n",
      "Epoch 16/100\n",
      "6/6 [==============================] - 0s 7ms/step - loss: 3.6507 - accuracy: 0.0598\n",
      "Epoch 17/100\n",
      "6/6 [==============================] - 0s 3ms/step - loss: 3.5970 - accuracy: 0.0652\n",
      "Epoch 18/100\n",
      "6/6 [==============================] - 0s 6ms/step - loss: 3.5134 - accuracy: 0.0978\n",
      "Epoch 19/100\n",
      "6/6 [==============================] - 0s 7ms/step - loss: 3.3883 - accuracy: 0.1576\n",
      "Epoch 20/100\n",
      "6/6 [==============================] - 0s 7ms/step - loss: 3.2009 - accuracy: 0.2120\n",
      "Epoch 21/100\n",
      "6/6 [==============================] - 0s 5ms/step - loss: 3.0281 - accuracy: 0.2283\n",
      "Epoch 22/100\n",
      "6/6 [==============================] - 0s 6ms/step - loss: 2.8931 - accuracy: 0.2337\n",
      "Epoch 23/100\n",
      "6/6 [==============================] - 0s 8ms/step - loss: 2.7494 - accuracy: 0.2989\n",
      "Epoch 24/100\n",
      "6/6 [==============================] - 0s 5ms/step - loss: 2.6312 - accuracy: 0.2935\n",
      "Epoch 25/100\n",
      "6/6 [==============================] - 0s 7ms/step - loss: 2.5308 - accuracy: 0.3261\n",
      "Epoch 26/100\n",
      "6/6 [==============================] - 0s 8ms/step - loss: 2.4495 - accuracy: 0.3696\n",
      "Epoch 27/100\n",
      "6/6 [==============================] - 0s 7ms/step - loss: 2.3764 - accuracy: 0.4076\n",
      "Epoch 28/100\n",
      "6/6 [==============================] - 0s 7ms/step - loss: 2.2989 - accuracy: 0.4457\n",
      "Epoch 29/100\n",
      "6/6 [==============================] - 0s 4ms/step - loss: 2.2275 - accuracy: 0.4348\n",
      "Epoch 30/100\n",
      "6/6 [==============================] - 0s 6ms/step - loss: 2.1449 - accuracy: 0.4891\n",
      "Epoch 31/100\n",
      "6/6 [==============================] - 0s 6ms/step - loss: 2.0943 - accuracy: 0.5163\n",
      "Epoch 32/100\n",
      "6/6 [==============================] - 0s 6ms/step - loss: 2.0472 - accuracy: 0.5217\n",
      "Epoch 33/100\n",
      "6/6 [==============================] - 0s 9ms/step - loss: 1.9652 - accuracy: 0.5543\n",
      "Epoch 34/100\n",
      "6/6 [==============================] - 0s 6ms/step - loss: 1.9161 - accuracy: 0.5435\n",
      "Epoch 35/100\n",
      "6/6 [==============================] - 0s 7ms/step - loss: 1.8655 - accuracy: 0.6033\n",
      "Epoch 36/100\n",
      "6/6 [==============================] - 0s 8ms/step - loss: 1.8016 - accuracy: 0.5978\n",
      "Epoch 37/100\n",
      "6/6 [==============================] - 0s 4ms/step - loss: 1.7440 - accuracy: 0.6196\n",
      "Epoch 38/100\n",
      "6/6 [==============================] - 0s 5ms/step - loss: 1.7121 - accuracy: 0.5978\n",
      "Epoch 39/100\n",
      "6/6 [==============================] - 0s 8ms/step - loss: 1.6932 - accuracy: 0.6196\n",
      "Epoch 40/100\n",
      "6/6 [==============================] - 0s 4ms/step - loss: 1.6349 - accuracy: 0.6033\n",
      "Epoch 41/100\n",
      "6/6 [==============================] - 0s 6ms/step - loss: 1.5927 - accuracy: 0.6467\n",
      "Epoch 42/100\n",
      "6/6 [==============================] - 0s 5ms/step - loss: 1.5645 - accuracy: 0.6250\n",
      "Epoch 43/100\n",
      "6/6 [==============================] - 0s 6ms/step - loss: 1.5416 - accuracy: 0.6196\n",
      "Epoch 44/100\n",
      "6/6 [==============================] - 0s 9ms/step - loss: 1.5015 - accuracy: 0.6250\n",
      "Epoch 45/100\n",
      "6/6 [==============================] - 0s 6ms/step - loss: 1.4608 - accuracy: 0.6196\n",
      "Epoch 46/100\n",
      "6/6 [==============================] - 0s 7ms/step - loss: 1.4352 - accuracy: 0.6196\n",
      "Epoch 47/100\n",
      "6/6 [==============================] - 0s 7ms/step - loss: 1.4190 - accuracy: 0.6196\n",
      "Epoch 48/100\n",
      "6/6 [==============================] - 0s 5ms/step - loss: 1.3867 - accuracy: 0.6413\n",
      "Epoch 49/100\n",
      "6/6 [==============================] - 0s 6ms/step - loss: 1.3731 - accuracy: 0.6630\n",
      "Epoch 50/100\n",
      "6/6 [==============================] - 0s 8ms/step - loss: 1.3314 - accuracy: 0.6250\n",
      "Epoch 51/100\n",
      "6/6 [==============================] - 0s 3ms/step - loss: 1.3333 - accuracy: 0.6359\n",
      "Epoch 52/100\n",
      "6/6 [==============================] - 0s 4ms/step - loss: 1.2977 - accuracy: 0.6522\n",
      "Epoch 53/100\n",
      "6/6 [==============================] - 0s 6ms/step - loss: 1.2790 - accuracy: 0.6304\n",
      "Epoch 54/100\n",
      "6/6 [==============================] - 0s 7ms/step - loss: 1.3103 - accuracy: 0.6141\n",
      "Epoch 55/100\n",
      "6/6 [==============================] - 0s 6ms/step - loss: 1.2664 - accuracy: 0.6467\n",
      "Epoch 56/100\n",
      "6/6 [==============================] - 0s 7ms/step - loss: 1.2183 - accuracy: 0.6467\n",
      "Epoch 57/100\n",
      "6/6 [==============================] - 0s 6ms/step - loss: 1.2115 - accuracy: 0.6359\n",
      "Epoch 58/100\n",
      "6/6 [==============================] - 0s 8ms/step - loss: 1.1788 - accuracy: 0.6522\n",
      "Epoch 59/100\n",
      "6/6 [==============================] - 0s 9ms/step - loss: 1.1545 - accuracy: 0.6413\n",
      "Epoch 60/100\n",
      "6/6 [==============================] - 0s 7ms/step - loss: 1.1469 - accuracy: 0.6304\n",
      "Epoch 61/100\n",
      "6/6 [==============================] - 0s 6ms/step - loss: 1.1274 - accuracy: 0.6359\n",
      "Epoch 62/100\n",
      "6/6 [==============================] - 0s 7ms/step - loss: 1.1260 - accuracy: 0.6304\n",
      "Epoch 63/100\n",
      "6/6 [==============================] - 0s 5ms/step - loss: 1.0964 - accuracy: 0.6359\n",
      "Epoch 64/100\n",
      "6/6 [==============================] - 0s 4ms/step - loss: 1.1022 - accuracy: 0.6304\n",
      "Epoch 65/100\n",
      "6/6 [==============================] - 0s 5ms/step - loss: 1.1040 - accuracy: 0.6304\n",
      "Epoch 66/100\n",
      "6/6 [==============================] - 0s 6ms/step - loss: 1.0735 - accuracy: 0.6413\n",
      "Epoch 67/100\n",
      "6/6 [==============================] - 0s 6ms/step - loss: 1.0680 - accuracy: 0.6250\n",
      "Epoch 68/100\n",
      "6/6 [==============================] - 0s 8ms/step - loss: 1.0456 - accuracy: 0.6087\n",
      "Epoch 69/100\n",
      "6/6 [==============================] - 0s 3ms/step - loss: 1.0302 - accuracy: 0.6250\n",
      "Epoch 70/100\n",
      "6/6 [==============================] - 0s 7ms/step - loss: 1.0286 - accuracy: 0.6304\n",
      "Epoch 71/100\n",
      "6/6 [==============================] - 0s 6ms/step - loss: 1.0152 - accuracy: 0.6522\n",
      "Epoch 72/100\n",
      "6/6 [==============================] - 0s 7ms/step - loss: 1.0125 - accuracy: 0.6304\n",
      "Epoch 73/100\n",
      "6/6 [==============================] - 0s 3ms/step - loss: 1.0056 - accuracy: 0.6467\n",
      "Epoch 74/100\n",
      "6/6 [==============================] - 0s 6ms/step - loss: 0.9960 - accuracy: 0.6196\n",
      "Epoch 75/100\n",
      "6/6 [==============================] - 0s 7ms/step - loss: 0.9827 - accuracy: 0.6304\n",
      "Epoch 76/100\n",
      "6/6 [==============================] - 0s 3ms/step - loss: 0.9676 - accuracy: 0.6304\n",
      "Epoch 77/100\n",
      "6/6 [==============================] - 0s 7ms/step - loss: 0.9729 - accuracy: 0.6413\n",
      "Epoch 78/100\n",
      "6/6 [==============================] - 0s 7ms/step - loss: 0.9719 - accuracy: 0.6196\n",
      "Epoch 79/100\n",
      "6/6 [==============================] - 0s 4ms/step - loss: 0.9662 - accuracy: 0.6141\n",
      "Epoch 80/100\n",
      "6/6 [==============================] - 0s 5ms/step - loss: 0.9524 - accuracy: 0.6141\n",
      "Epoch 81/100\n",
      "6/6 [==============================] - 0s 7ms/step - loss: 0.9573 - accuracy: 0.6250\n",
      "Epoch 82/100\n",
      "6/6 [==============================] - 0s 6ms/step - loss: 0.9341 - accuracy: 0.6250\n",
      "Epoch 83/100\n",
      "6/6 [==============================] - 0s 7ms/step - loss: 0.9196 - accuracy: 0.6250\n",
      "Epoch 84/100\n",
      "6/6 [==============================] - 0s 3ms/step - loss: 0.9429 - accuracy: 0.6304\n",
      "Epoch 85/100\n",
      "6/6 [==============================] - 0s 4ms/step - loss: 0.9115 - accuracy: 0.6304\n",
      "Epoch 86/100\n",
      "6/6 [==============================] - 0s 5ms/step - loss: 0.9007 - accuracy: 0.6359\n",
      "Epoch 87/100\n",
      "6/6 [==============================] - 0s 9ms/step - loss: 0.9101 - accuracy: 0.6196\n",
      "Epoch 88/100\n",
      "6/6 [==============================] - 0s 3ms/step - loss: 0.8955 - accuracy: 0.6467\n",
      "Epoch 89/100\n",
      "6/6 [==============================] - 0s 7ms/step - loss: 0.9017 - accuracy: 0.6250\n",
      "Epoch 90/100\n",
      "6/6 [==============================] - 0s 7ms/step - loss: 0.8869 - accuracy: 0.6087\n",
      "Epoch 91/100\n",
      "6/6 [==============================] - 0s 3ms/step - loss: 0.8784 - accuracy: 0.6250\n",
      "Epoch 92/100\n",
      "6/6 [==============================] - 0s 7ms/step - loss: 0.8841 - accuracy: 0.6359\n",
      "Epoch 93/100\n",
      "6/6 [==============================] - 0s 7ms/step - loss: 0.8968 - accuracy: 0.6304\n",
      "Epoch 94/100\n",
      "6/6 [==============================] - 0s 2ms/step - loss: 0.8631 - accuracy: 0.6304\n",
      "Epoch 95/100\n",
      "6/6 [==============================] - 0s 7ms/step - loss: 0.8653 - accuracy: 0.6413\n",
      "Epoch 96/100\n",
      "6/6 [==============================] - 0s 16ms/step - loss: 0.8652 - accuracy: 0.6250\n",
      "Epoch 97/100\n",
      "6/6 [==============================] - 0s 5ms/step - loss: 0.8592 - accuracy: 0.6304\n",
      "Epoch 98/100\n",
      "6/6 [==============================] - 0s 5ms/step - loss: 0.8654 - accuracy: 0.6304\n",
      "Epoch 99/100\n",
      "6/6 [==============================] - 0s 8ms/step - loss: 0.8454 - accuracy: 0.6250\n",
      "Epoch 100/100\n",
      "6/6 [==============================] - 0s 8ms/step - loss: 0.8436 - accuracy: 0.6413\n"
     ]
    },
    {
     "data": {
      "text/plain": [
       "<keras.callbacks.History at 0x197a50812a0>"
      ]
     },
     "execution_count": 15,
     "metadata": {},
     "output_type": "execute_result"
    }
   ],
   "source": [
    "model.fit(np.array(X_train), np.array(Y_train), epochs=100)"
   ]
  },
  {
   "cell_type": "code",
   "execution_count": 16,
   "metadata": {},
   "outputs": [
    {
     "name": "stderr",
     "output_type": "stream",
     "text": [
      "WARNING:absl:Found untraced functions such as _update_step_xla, lstm_cell_layer_call_fn, lstm_cell_layer_call_and_return_conditional_losses, lstm_cell_1_layer_call_fn, lstm_cell_1_layer_call_and_return_conditional_losses while saving (showing 5 of 5). These functions will not be directly callable after loading.\n"
     ]
    },
    {
     "name": "stdout",
     "output_type": "stream",
     "text": [
      "INFO:tensorflow:Assets written to: tensorflow_model\\assets\n"
     ]
    },
    {
     "name": "stderr",
     "output_type": "stream",
     "text": [
      "INFO:tensorflow:Assets written to: tensorflow_model\\assets\n"
     ]
    }
   ],
   "source": [
    "model.save('tensorflow_model')"
   ]
  },
  {
   "cell_type": "markdown",
   "metadata": {},
   "source": [
    "## Model Testing"
   ]
  },
  {
   "cell_type": "code",
   "execution_count": 17,
   "metadata": {},
   "outputs": [],
   "source": [
    "loaded_model = tf.keras.models.load_model('tensorflow_model')"
   ]
  },
  {
   "cell_type": "code",
   "execution_count": 18,
   "metadata": {},
   "outputs": [
    {
     "name": "stdout",
     "output_type": "stream",
     "text": [
      "1/1 [==============================] - 1s 514ms/step\n",
      "Predicted Disease : hepatitis_c\n"
     ]
    }
   ],
   "source": [
    "user_input = \"I have joint pain and swelling and joint deformities.\"\n",
    "user_input_sequence = tokenizer.texts_to_sequences([user_input])\n",
    "user_input_padded = tf.keras.preprocessing.sequence.pad_sequences(user_input_sequence, maxlen=4)\n",
    "prediction = loaded_model.predict(user_input_padded)\n",
    "predicted_label = tf.argmax(prediction, axis=1).numpy()[0]\n",
    "id_to_label = {idx : label for label, idx in label_to_id.items()}\n",
    "predicted_label = id_to_label[predicted_label]\n",
    "print(f\"Predicted Disease : {predicted_label}\")"
   ]
  },
  {
   "cell_type": "code",
   "execution_count": 19,
   "metadata": {},
   "outputs": [
    {
     "data": {
      "text/plain": [
       "['id_to_label.joblib']"
      ]
     },
     "execution_count": 19,
     "metadata": {},
     "output_type": "execute_result"
    }
   ],
   "source": [
    "import joblib\n",
    "joblib.dump(id_to_label, 'id_to_label.joblib')"
   ]
  },
  {
   "cell_type": "code",
   "execution_count": null,
   "metadata": {},
   "outputs": [],
   "source": []
  }
 ],
 "metadata": {
  "kernelspec": {
   "display_name": "Python 3",
   "language": "python",
   "name": "python3"
  },
  "language_info": {
   "codemirror_mode": {
    "name": "ipython",
    "version": 3
   },
   "file_extension": ".py",
   "mimetype": "text/x-python",
   "name": "python",
   "nbconvert_exporter": "python",
   "pygments_lexer": "ipython3",
   "version": "3.10.0"
  }
 },
 "nbformat": 4,
 "nbformat_minor": 2
}
