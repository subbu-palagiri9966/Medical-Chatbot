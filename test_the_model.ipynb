{
 "cells": [
  {
   "cell_type": "code",
   "execution_count": 1,
   "metadata": {},
   "outputs": [],
   "source": [
    "import tensorflow as tf\n",
    "import joblib"
   ]
  },
  {
   "cell_type": "code",
   "execution_count": 2,
   "metadata": {},
   "outputs": [],
   "source": [
    "entity_identification_tokenizer = joblib.load(\"entity_identification_tokenizer.joblib\")\n",
    "disease_finding_tokenizer = joblib.load(\"disease_finding_tokenizer.joblib\")"
   ]
  },
  {
   "cell_type": "code",
   "execution_count": 3,
   "metadata": {},
   "outputs": [],
   "source": [
    "entity_identification_model = tf.keras.models.load_model(\"entity_detection_model\")\n",
    "disease_finding_model = tf.keras.models.load_model(\"tensorflow_model\")"
   ]
  },
  {
   "cell_type": "markdown",
   "metadata": {},
   "source": [
    "## Entity Identification"
   ]
  },
  {
   "cell_type": "code",
   "execution_count": 1,
   "metadata": {},
   "outputs": [],
   "source": [
    "user_input = input(\"Enter user Prompt: \")\n",
    "user_input_sequence = entity_identification_tokenizer.texts_to_sequences([user_input])\n",
    "user_input_padded = tf.keras.preprocessing.sequence.pad_sequences(user_input_sequence, maxlen=10)\n",
    "prediction = entity_identification_model.predict(user_input_padded)\n",
    "if prediction[0][0] > prediction[0][1]:\n",
    "    print(\"The input is related to a disease.\")\n",
    "else:\n",
    "    print(\"The input is related to symptoms.\")"
   ]
  },
  {
   "cell_type": "markdown",
   "metadata": {},
   "source": [
    "## Disease Detection"
   ]
  },
  {
   "cell_type": "code",
   "execution_count": 8,
   "metadata": {},
   "outputs": [],
   "source": [
    "user_input = input()\n",
    "id_to_label = joblib.load(\"id_to_label.joblib\")\n",
    "user_input_sequence = disease_finding_tokenizer.texts_to_sequences([user_input])\n",
    "user_input_padded = tf.keras.preprocessing.sequence.pad_sequences(user_input_sequence, maxlen=10)\n",
    "prediction = disease_finding_model.predict(user_input_padded)\n",
    "predicted_label = tf.argmax(prediction, axis=1).numpy()[0]\n",
    "predicted_label = id_to_label[predicted_label]\n",
    "print(f\"Predicted Disease : {predicted_label}\")"
   ]
  },
  {
   "cell_type": "code",
   "execution_count": null,
   "metadata": {},
   "outputs": [],
   "source": []
  }
 ],
 "metadata": {
  "kernelspec": {
   "display_name": "Python 3",
   "language": "python",
   "name": "python3"
  },
  "language_info": {
   "codemirror_mode": {
    "name": "ipython",
    "version": 3
   },
   "file_extension": ".py",
   "mimetype": "text/x-python",
   "name": "python",
   "nbconvert_exporter": "python",
   "pygments_lexer": "ipython3",
   "version": "3.10.0"
  }
 },
 "nbformat": 4,
 "nbformat_minor": 2
}
